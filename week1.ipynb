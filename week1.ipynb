{
  "nbformat": 4,
  "nbformat_minor": 0,
  "metadata": {
    "colab": {
      "provenance": [],
      "authorship_tag": "ABX9TyMELBtx9Wrbt6/DybyYk9oq",
      "include_colab_link": true
    },
    "kernelspec": {
      "name": "python3",
      "display_name": "Python 3"
    },
    "language_info": {
      "name": "python"
    }
  },
  "cells": [
    {
      "cell_type": "markdown",
      "metadata": {
        "id": "view-in-github",
        "colab_type": "text"
      },
      "source": [
        "<a href=\"https://colab.research.google.com/github/svbritesh/Internship-Devliverables/blob/master/week1.ipynb\" target=\"_parent\"><img src=\"https://colab.research.google.com/assets/colab-badge.svg\" alt=\"Open In Colab\"/></a>"
      ]
    },
    {
      "cell_type": "code",
      "execution_count": null,
      "metadata": {
        "id": "lAmwLWOK35Kd"
      },
      "outputs": [],
      "source": []
    },
    {
      "cell_type": "code",
      "source": [
        "#Print a word.\n",
        "print(\"ritesh\")"
      ],
      "metadata": {
        "colab": {
          "base_uri": "https://localhost:8080/"
        },
        "id": "B0iY-JJb6zdI",
        "outputId": "fc5d7aec-1fe4-4df0-ab05-bfd14c866779"
      },
      "execution_count": null,
      "outputs": [
        {
          "output_type": "stream",
          "name": "stdout",
          "text": [
            "ritesh\n"
          ]
        }
      ]
    },
    {
      "cell_type": "code",
      "source": [
        "# fizz buzz\n",
        "for i in range(1, 101):\n",
        "    if i % 3 == 0 and i % 5 == 0:\n",
        "        print(\"FizzBuzz\")\n",
        "    elif i % 3 == 0:\n",
        "        print(\"Fizz\")\n",
        "    elif i % 5 == 0:\n",
        "        print(\"Buzz\")\n",
        "    else:\n",
        "        print(i)\n"
      ],
      "metadata": {
        "colab": {
          "base_uri": "https://localhost:8080/"
        },
        "id": "YnladotY68ir",
        "outputId": "dabc7294-96ef-43eb-e0b3-c0e530489419"
      },
      "execution_count": null,
      "outputs": [
        {
          "output_type": "stream",
          "name": "stdout",
          "text": [
            "1\n",
            "2\n",
            "Fizz\n",
            "4\n",
            "Buzz\n",
            "Fizz\n",
            "7\n",
            "8\n",
            "Fizz\n",
            "Buzz\n",
            "11\n",
            "Fizz\n",
            "13\n",
            "14\n",
            "FizzBuzz\n",
            "16\n",
            "17\n",
            "Fizz\n",
            "19\n",
            "Buzz\n",
            "Fizz\n",
            "22\n",
            "23\n",
            "Fizz\n",
            "Buzz\n",
            "26\n",
            "Fizz\n",
            "28\n",
            "29\n",
            "FizzBuzz\n",
            "31\n",
            "32\n",
            "Fizz\n",
            "34\n",
            "Buzz\n",
            "Fizz\n",
            "37\n",
            "38\n",
            "Fizz\n",
            "Buzz\n",
            "41\n",
            "Fizz\n",
            "43\n",
            "44\n",
            "FizzBuzz\n",
            "46\n",
            "47\n",
            "Fizz\n",
            "49\n",
            "Buzz\n",
            "Fizz\n",
            "52\n",
            "53\n",
            "Fizz\n",
            "Buzz\n",
            "56\n",
            "Fizz\n",
            "58\n",
            "59\n",
            "FizzBuzz\n",
            "61\n",
            "62\n",
            "Fizz\n",
            "64\n",
            "Buzz\n",
            "Fizz\n",
            "67\n",
            "68\n",
            "Fizz\n",
            "Buzz\n",
            "71\n",
            "Fizz\n",
            "73\n",
            "74\n",
            "FizzBuzz\n",
            "76\n",
            "77\n",
            "Fizz\n",
            "79\n",
            "Buzz\n",
            "Fizz\n",
            "82\n",
            "83\n",
            "Fizz\n",
            "Buzz\n",
            "86\n",
            "Fizz\n",
            "88\n",
            "89\n",
            "FizzBuzz\n",
            "91\n",
            "92\n",
            "Fizz\n",
            "94\n",
            "Buzz\n",
            "Fizz\n",
            "97\n",
            "98\n",
            "Fizz\n",
            "Buzz\n"
          ]
        }
      ]
    },
    {
      "cell_type": "code",
      "source": [
        "# Addition of two numbers.\n",
        "x=1\n",
        "y=3\n",
        "print(x+y)"
      ],
      "metadata": {
        "id": "5f_fstvi7v6c",
        "colab": {
          "base_uri": "https://localhost:8080/"
        },
        "outputId": "4be3c0da-c919-45b1-f754-01a6c8bbe770"
      },
      "execution_count": null,
      "outputs": [
        {
          "output_type": "stream",
          "name": "stdout",
          "text": [
            "4\n"
          ]
        }
      ]
    },
    {
      "cell_type": "code",
      "source": [
        "#Multipication of number in range.\n",
        "rows= int(input(\"enter the number:\"))\n",
        "for  i in range (1, 5):\n",
        "   print(8 * i)\n"
      ],
      "metadata": {
        "colab": {
          "base_uri": "https://localhost:8080/"
        },
        "id": "AfCWx0n4Tpe2",
        "outputId": "4a769d89-f32a-4341-ae90-501350b499d7"
      },
      "execution_count": null,
      "outputs": [
        {
          "output_type": "stream",
          "name": "stdout",
          "text": [
            "enter the number:3\n",
            "8\n",
            "16\n",
            "24\n",
            "32\n"
          ]
        }
      ]
    },
    {
      "cell_type": "code",
      "source": [
        "# Greeting.\n",
        "name=input(\"what is your name\")\n",
        "print(\"good morning\",name)"
      ],
      "metadata": {
        "colab": {
          "base_uri": "https://localhost:8080/"
        },
        "id": "bOBI4zpM4d8P",
        "outputId": "93a8ac59-42f1-45c1-be16-ecf35d2bde7c"
      },
      "execution_count": null,
      "outputs": [
        {
          "output_type": "stream",
          "name": "stdout",
          "text": [
            "what is your name ritesh \n",
            "good morning  ritesh \n"
          ]
        }
      ]
    },
    {
      "cell_type": "code",
      "source": [
        "#Printing pattern.\n",
        "rows=int(input(\"enter the number of rows\"))\n",
        "for i in range(1, rows+1):\n",
        "  print(\"*\"*i)"
      ],
      "metadata": {
        "colab": {
          "base_uri": "https://localhost:8080/"
        },
        "id": "fy20rrdg_02x",
        "outputId": "4379f48e-2473-44de-8328-d59ae8df30e8"
      },
      "execution_count": null,
      "outputs": [
        {
          "output_type": "stream",
          "name": "stdout",
          "text": [
            "enter the number of rows5\n",
            "*\n",
            "**\n",
            "***\n",
            "****\n",
            "*****\n"
          ]
        }
      ]
    },
    {
      "cell_type": "code",
      "source": [
        "#fizz buzz.\n",
        "for i in range(1,101):\n",
        "  if i%3==0 and i%5==0:\n",
        "    print(\"fizzbuzz\")\n",
        "  elif i%3==0:\n",
        "    print(\"fizz\")\n",
        "  elif i%5==0:\n",
        "    print(\"buzz\")\n",
        "  else:\n",
        "    print(i)"
      ],
      "metadata": {
        "colab": {
          "base_uri": "https://localhost:8080/"
        },
        "id": "PmbyKZf1dCMj",
        "outputId": "c62c1ab9-547c-4893-82f4-b3ef33367004"
      },
      "execution_count": null,
      "outputs": [
        {
          "output_type": "stream",
          "name": "stdout",
          "text": [
            "1\n",
            "2\n",
            "fizz\n",
            "4\n",
            "buzz\n",
            "fizz\n",
            "7\n",
            "8\n",
            "fizz\n",
            "buzz\n",
            "11\n",
            "fizz\n",
            "13\n",
            "14\n",
            "fizzbuzz\n",
            "16\n",
            "17\n",
            "fizz\n",
            "19\n",
            "buzz\n",
            "fizz\n",
            "22\n",
            "23\n",
            "fizz\n",
            "buzz\n",
            "26\n",
            "fizz\n",
            "28\n",
            "29\n",
            "fizzbuzz\n",
            "31\n",
            "32\n",
            "fizz\n",
            "34\n",
            "buzz\n",
            "fizz\n",
            "37\n",
            "38\n",
            "fizz\n",
            "buzz\n",
            "41\n",
            "fizz\n",
            "43\n",
            "44\n",
            "fizzbuzz\n",
            "46\n",
            "47\n",
            "fizz\n",
            "49\n",
            "buzz\n",
            "fizz\n",
            "52\n",
            "53\n",
            "fizz\n",
            "buzz\n",
            "56\n",
            "fizz\n",
            "58\n",
            "59\n",
            "fizzbuzz\n",
            "61\n",
            "62\n",
            "fizz\n",
            "64\n",
            "buzz\n",
            "fizz\n",
            "67\n",
            "68\n",
            "fizz\n",
            "buzz\n",
            "71\n",
            "fizz\n",
            "73\n",
            "74\n",
            "fizzbuzz\n",
            "76\n",
            "77\n",
            "fizz\n",
            "79\n",
            "buzz\n",
            "fizz\n",
            "82\n",
            "83\n",
            "fizz\n",
            "buzz\n",
            "86\n",
            "fizz\n",
            "88\n",
            "89\n",
            "fizzbuzz\n",
            "91\n",
            "92\n",
            "fizz\n",
            "94\n",
            "buzz\n",
            "fizz\n",
            "97\n",
            "98\n",
            "fizz\n",
            "buzz\n"
          ]
        }
      ]
    },
    {
      "cell_type": "code",
      "source": [
        "#checking palindrome.\n",
        "def is_palindrome(word):\n",
        "  return word==word[::-1]\n",
        "print(is_palindrome(\"madam\"))"
      ],
      "metadata": {
        "colab": {
          "base_uri": "https://localhost:8080/"
        },
        "id": "3KGZEmyBg8Gs",
        "outputId": "0afae29d-026f-4b99-eaa0-73ff46bb825c"
      },
      "execution_count": null,
      "outputs": [
        {
          "output_type": "stream",
          "name": "stdout",
          "text": [
            "True\n"
          ]
        }
      ]
    },
    {
      "cell_type": "code",
      "source": [
        "#finding the max value.\n",
        "def find_max(list):\n",
        "  max_value=list[0]\n",
        "  for num in list:\n",
        "    if num>max_value:\n",
        "      max_value=num\n",
        "  return max_value\n",
        "print(find_max([8,30,9,4,20,16]))"
      ],
      "metadata": {
        "colab": {
          "base_uri": "https://localhost:8080/"
        },
        "id": "rNwwFRiHis6P",
        "outputId": "b7cf128b-4c98-4bf0-a7ee-c0d9d65d53ca"
      },
      "execution_count": null,
      "outputs": [
        {
          "output_type": "stream",
          "name": "stdout",
          "text": [
            "30\n"
          ]
        }
      ]
    },
    {
      "cell_type": "code",
      "source": [
        "#Reverse a word.\n",
        "def reverse(word):\n",
        "  return word[::-1]\n",
        "\n",
        "print(reverse(\"tonic\"))"
      ],
      "metadata": {
        "colab": {
          "base_uri": "https://localhost:8080/"
        },
        "id": "BWeGBh-d48Yw",
        "outputId": "340f5af1-104f-4be5-cbdd-94f67466a571"
      },
      "execution_count": null,
      "outputs": [
        {
          "output_type": "stream",
          "name": "stdout",
          "text": [
            "cinot\n"
          ]
        }
      ]
    },
    {
      "cell_type": "code",
      "source": [
        "#Reverse a word.\n",
        "def reverse(word):\n",
        "    return word[::-1]\n",
        "\n",
        "print(\"reverse:\", reverse(\"hitech\"))\n"
      ],
      "metadata": {
        "colab": {
          "base_uri": "https://localhost:8080/"
        },
        "id": "MKS7OiYwbTP1",
        "outputId": "e6f90d47-16e1-4806-ab88-1482749d2c99"
      },
      "execution_count": null,
      "outputs": [
        {
          "output_type": "stream",
          "name": "stdout",
          "text": [
            "reverse: hcetih\n"
          ]
        }
      ]
    },
    {
      "cell_type": "code",
      "source": [
        "#counting vowels\n",
        "def count_vowels(s):\n",
        "  vowels=\"aeiouAEIOU\"\n",
        "  count=0\n",
        "  for ch in s:\n",
        "    if ch in vowels:\n",
        "      count+=1\n",
        "  return count\n",
        "print(count_vowels(\"intern\"))"
      ],
      "metadata": {
        "colab": {
          "base_uri": "https://localhost:8080/"
        },
        "id": "BVCbe-K7y-df",
        "outputId": "9214706e-2af7-46cc-9359-e877ed2ed885"
      },
      "execution_count": null,
      "outputs": [
        {
          "output_type": "stream",
          "name": "stdout",
          "text": [
            "2\n"
          ]
        }
      ]
    },
    {
      "cell_type": "code",
      "source": [
        "#length of a string.\n",
        "word=\"ritesh\"\n",
        "print(len(word))\n"
      ],
      "metadata": {
        "colab": {
          "base_uri": "https://localhost:8080/"
        },
        "id": "_totDy6G30YI",
        "outputId": "65ee9360-032d-48e0-eb22-7b274cbc310d"
      },
      "execution_count": null,
      "outputs": [
        {
          "output_type": "stream",
          "name": "stdout",
          "text": [
            "6\n"
          ]
        }
      ]
    },
    {
      "cell_type": "code",
      "source": [
        "#printing all characters in a string.\n",
        "word=\"vijay\"\n",
        "for ch in word:\n",
        "  print(ch)"
      ],
      "metadata": {
        "colab": {
          "base_uri": "https://localhost:8080/"
        },
        "id": "j4IULPjh5vvk",
        "outputId": "0ac79106-c7c8-4eee-90f8-c953442622bb"
      },
      "execution_count": null,
      "outputs": [
        {
          "output_type": "stream",
          "name": "stdout",
          "text": [
            "v\n",
            "i\n",
            "j\n",
            "a\n",
            "y\n"
          ]
        }
      ]
    },
    {
      "cell_type": "code",
      "source": [
        "#addition.\n",
        "x=1\n",
        "y=3\n",
        "print(x+y)"
      ],
      "metadata": {
        "colab": {
          "base_uri": "https://localhost:8080/"
        },
        "id": "CRPv2Cck7A-h",
        "outputId": "e18a053d-eb25-4f48-c73f-89fa8a7d1a7b"
      },
      "execution_count": null,
      "outputs": [
        {
          "output_type": "stream",
          "name": "stdout",
          "text": [
            "4\n"
          ]
        }
      ]
    },
    {
      "cell_type": "code",
      "source": [
        "#sum of numbers in range.\n",
        "def sum(n):\n",
        "  total=0\n",
        "  for i in range(1,n+1):\n",
        "    total+=i\n",
        "  return total\n",
        "print(sum(10))"
      ],
      "metadata": {
        "colab": {
          "base_uri": "https://localhost:8080/"
        },
        "id": "9p_0DaNI8O9J",
        "outputId": "4477184d-e6a9-4b5c-c7b6-739a6893ebce"
      },
      "execution_count": null,
      "outputs": [
        {
          "output_type": "stream",
          "name": "stdout",
          "text": [
            "55\n"
          ]
        }
      ]
    },
    {
      "cell_type": "code",
      "source": [
        "# sum of numbers in range using while loop.\n",
        "def sum(n):\n",
        "  total=0\n",
        "  i=1\n",
        "  while i<=n:\n",
        "    total+=i\n",
        "    i+=1\n",
        "  return total\n",
        "print(sum(10))"
      ],
      "metadata": {
        "colab": {
          "base_uri": "https://localhost:8080/"
        },
        "id": "WFjm6ANf-bd5",
        "outputId": "81560856-f35e-4c0c-802b-3cdf18de47a8"
      },
      "execution_count": null,
      "outputs": [
        {
          "output_type": "stream",
          "name": "stdout",
          "text": [
            "55\n"
          ]
        }
      ]
    },
    {
      "cell_type": "code",
      "source": [
        "#Factorial of a number.\n",
        "def factorial(n):\n",
        "  result=1\n",
        "  for i in range(1,n+1):\n",
        "    result*=i\n",
        "  return result\n",
        "print(factorial(0))\n"
      ],
      "metadata": {
        "colab": {
          "base_uri": "https://localhost:8080/"
        },
        "id": "hSiPkui_R7uT",
        "outputId": "48c5e704-bd25-45ad-f547-c182e8df8564"
      },
      "execution_count": null,
      "outputs": [
        {
          "output_type": "stream",
          "name": "stdout",
          "text": [
            "1\n"
          ]
        }
      ]
    },
    {
      "cell_type": "code",
      "source": [
        "#checking even or odd\n",
        "def even_odd(n):\n",
        "  if n%2==0:\n",
        "    return \"even\"\n",
        "  else:\n",
        "    return \"odd\"\n",
        "print(even_odd(45))\n",
        "\n"
      ],
      "metadata": {
        "colab": {
          "base_uri": "https://localhost:8080/"
        },
        "id": "JUmGIhf6dcIw",
        "outputId": "b4de0240-70f1-41ec-9023-22a00d650ce0"
      },
      "execution_count": null,
      "outputs": [
        {
          "output_type": "stream",
          "name": "stdout",
          "text": [
            "odd\n"
          ]
        }
      ]
    },
    {
      "cell_type": "code",
      "source": [
        "#reverse a list.\n",
        "def reverse_list(l):\n",
        "  return l[::-1]\n",
        "\n",
        "print(reverse_list([3,6,4,5,1]))"
      ],
      "metadata": {
        "colab": {
          "base_uri": "https://localhost:8080/"
        },
        "id": "Ig4XGdA4ZKV6",
        "outputId": "c407294d-2b9a-4869-a2e6-0c5d23cc7bf0"
      },
      "execution_count": null,
      "outputs": [
        {
          "output_type": "stream",
          "name": "stdout",
          "text": [
            "[1, 5, 4, 6, 3]\n"
          ]
        }
      ]
    },
    {
      "cell_type": "code",
      "source": [
        "#prime number\n",
        "def is_prime(n):\n",
        "  if n<=1:\n",
        "    return False\n",
        "  for i in range(2,int(n**0.5)+1):\n",
        "      if n%i==0:\n",
        "       return False\n",
        "  else:\n",
        "    return True\n",
        "\n",
        "\n",
        "print(is_prime(3))"
      ],
      "metadata": {
        "colab": {
          "base_uri": "https://localhost:8080/"
        },
        "id": "D_5WxAyDfpdN",
        "outputId": "dcd5b4b3-bb77-4e5b-c1c6-16234b3c78e8"
      },
      "execution_count": null,
      "outputs": [
        {
          "output_type": "stream",
          "name": "stdout",
          "text": [
            "True\n"
          ]
        }
      ]
    },
    {
      "cell_type": "code",
      "source": [
        "#splitting of a sentence.\n",
        "def count_words(sentence):\n",
        "    return (sentence.split())\n",
        "\n",
        "print(count_words(\"Python is easy to learn\"))\n",
        "\n"
      ],
      "metadata": {
        "colab": {
          "base_uri": "https://localhost:8080/"
        },
        "id": "ZoVCOtdeiOdg",
        "outputId": "710f8c3f-1ee3-40d2-c8f2-9652b39dec19"
      },
      "execution_count": null,
      "outputs": [
        {
          "output_type": "stream",
          "name": "stdout",
          "text": [
            "['Python', 'is', 'easy', 'to', 'learn']\n"
          ]
        }
      ]
    },
    {
      "cell_type": "code",
      "source": [
        "#no of words in a sentence.\n",
        "def count_words(sentence):\n",
        "    return len(sentence.split())\n",
        "\n",
        "print(count_words(\"Python is easy to learn\"))"
      ],
      "metadata": {
        "colab": {
          "base_uri": "https://localhost:8080/"
        },
        "id": "kbP5etRrpVbW",
        "outputId": "6aad8a3d-b5f3-4ac7-eeb1-9f50c071fb48"
      },
      "execution_count": null,
      "outputs": [
        {
          "output_type": "stream",
          "name": "stdout",
          "text": [
            "5\n"
          ]
        }
      ]
    },
    {
      "cell_type": "code",
      "source": [
        "#splitting of sentence and no of words.\n",
        "def split_words(s):\n",
        "  words=s.split()\n",
        "  x=len(words)\n",
        "  return words ,x\n",
        "print(split_words(\"hi mor it\"))"
      ],
      "metadata": {
        "colab": {
          "base_uri": "https://localhost:8080/"
        },
        "id": "WTxsNGFluaUG",
        "outputId": "70789bbd-4bfa-4aab-d579-175c6412ddab"
      },
      "execution_count": null,
      "outputs": [
        {
          "output_type": "stream",
          "name": "stdout",
          "text": [
            "(['hi', 'mor', 'it'], 3)\n"
          ]
        }
      ]
    },
    {
      "cell_type": "code",
      "source": [
        "#String concatenation\n",
        "name=input(\"enter the name:\")\n",
        "age=input(\"enter the age:\")\n",
        "print(\"hello\"+\" \"+name+ \" \"+ \"you are\"+ \" \" +age+\" \"+\"years old\")"
      ],
      "metadata": {
        "colab": {
          "base_uri": "https://localhost:8080/"
        },
        "id": "uS_dowkJqsT8",
        "outputId": "6795399a-450a-4527-f4bf-8f6d75982fa5"
      },
      "execution_count": null,
      "outputs": [
        {
          "output_type": "stream",
          "name": "stdout",
          "text": [
            "enter the name:vijay\n",
            "enter the age:21\n",
            "hello vijay you are 21 years old\n"
          ]
        }
      ]
    },
    {
      "cell_type": "code",
      "source": [
        "# addition.\n",
        "first=float(input(\"n:\"))\n",
        "second=float(input(\"o:\"))\n",
        "sum=first+second\n",
        "print(\"sum\",sum)\n"
      ],
      "metadata": {
        "colab": {
          "base_uri": "https://localhost:8080/"
        },
        "id": "Y2eVR1fMtZJI",
        "outputId": "8c9632a4-3583-4968-b198-fdda9b219b50"
      },
      "execution_count": null,
      "outputs": [
        {
          "output_type": "stream",
          "name": "stdout",
          "text": [
            "n:102\n",
            "o:20.1\n",
            "sum 122.1\n"
          ]
        }
      ]
    },
    {
      "cell_type": "code",
      "source": [
        "#printing the string in upper case letters.\n",
        "x=\"good morning\"\n",
        "print(x.upper())"
      ],
      "metadata": {
        "colab": {
          "base_uri": "https://localhost:8080/"
        },
        "id": "lm-l-iZndtTC",
        "outputId": "24ff1b80-7c8a-4f2d-b637-89966f67d432"
      },
      "execution_count": null,
      "outputs": [
        {
          "output_type": "stream",
          "name": "stdout",
          "text": [
            "GOOD MORNING\n"
          ]
        }
      ]
    },
    {
      "cell_type": "code",
      "source": [
        "# position of a ch in a string.\n",
        "x=\"intiate the python technology\"\n",
        "char=\"t\"\n",
        "position=[]\n",
        "for i in range(len(x)):\n",
        "  if x[i]==char:\n",
        "   position.append(i)\n",
        "print(position)"
      ],
      "metadata": {
        "colab": {
          "base_uri": "https://localhost:8080/"
        },
        "id": "tJr62osle3r-",
        "outputId": "9683efa0-6997-455f-96a1-0df98be87ab3"
      },
      "execution_count": null,
      "outputs": [
        {
          "output_type": "stream",
          "name": "stdout",
          "text": [
            "[2, 5, 8, 14, 19]\n"
          ]
        }
      ]
    },
    {
      "cell_type": "code",
      "source": [
        "#position of every ch in string.\n",
        "x= \"good morning\"\n",
        "for ch in x:\n",
        "  print(ch,x.find(ch))"
      ],
      "metadata": {
        "colab": {
          "base_uri": "https://localhost:8080/"
        },
        "id": "P3O5mKIWSXrM",
        "outputId": "958e3426-884e-4d8c-a435-071a07bf073d"
      },
      "execution_count": null,
      "outputs": [
        {
          "output_type": "stream",
          "name": "stdout",
          "text": [
            "g 0\n",
            "o 1\n",
            "o 1\n",
            "d 3\n",
            "  4\n",
            "m 5\n",
            "o 1\n",
            "r 7\n",
            "n 8\n",
            "i 9\n",
            "n 8\n",
            "g 0\n"
          ]
        }
      ]
    },
    {
      "cell_type": "code",
      "source": [
        "#simple calculation\n",
        "print(10/3)"
      ],
      "metadata": {
        "colab": {
          "base_uri": "https://localhost:8080/"
        },
        "id": "dthDIOxdXHZU",
        "outputId": "abaeb2e9-07eb-4cc2-a393-e518df86fc0a"
      },
      "execution_count": null,
      "outputs": [
        {
          "output_type": "stream",
          "name": "stdout",
          "text": [
            "3.3333333333333335\n"
          ]
        }
      ]
    },
    {
      "cell_type": "code",
      "source": [
        "#weight and units.\n",
        "weight=int(input(\"enter the weight:\"))\n",
        "unit=input(\"l or k:\")\n",
        "if unit==\"k\":\n",
        "  x=weight/10\n",
        "  print(x)\n",
        "else:\n",
        "  y=weight+10\n",
        "  print(y)"
      ],
      "metadata": {
        "colab": {
          "base_uri": "https://localhost:8080/"
        },
        "id": "EPgazBJ3rOFQ",
        "outputId": "ef1350e7-63d3-4b47-e36f-4f5958c1e5f3"
      },
      "execution_count": null,
      "outputs": [
        {
          "output_type": "stream",
          "name": "stdout",
          "text": [
            "enter the weight:100\n",
            "l or k:k\n",
            "10.0\n"
          ]
        }
      ]
    },
    {
      "cell_type": "code",
      "source": [
        "#Pattern using while loop.\n",
        "i=1\n",
        "while i<=10:\n",
        "  print(i*\"*\")\n",
        "  i=i+1"
      ],
      "metadata": {
        "colab": {
          "base_uri": "https://localhost:8080/"
        },
        "id": "p6TqbCnbxPLS",
        "outputId": "9e32c38b-f051-4f49-c8dc-846081049af0"
      },
      "execution_count": null,
      "outputs": [
        {
          "output_type": "stream",
          "name": "stdout",
          "text": [
            "*\n",
            "**\n",
            "***\n",
            "****\n",
            "*****\n",
            "******\n",
            "*******\n",
            "********\n",
            "*********\n",
            "**********\n"
          ]
        }
      ]
    },
    {
      "cell_type": "code",
      "source": [
        "# pattern\n",
        "n=int(input(\"enter the number:\"))\n",
        "for i in range(1,n+1):\n",
        "  print(i*\"*\")"
      ],
      "metadata": {
        "colab": {
          "base_uri": "https://localhost:8080/"
        },
        "id": "u_t_Rigp_Rnb",
        "outputId": "214eaab3-cffa-44a8-b0c8-4c68decd906f"
      },
      "execution_count": null,
      "outputs": [
        {
          "output_type": "stream",
          "name": "stdout",
          "text": [
            "enter the number:10\n",
            "*\n",
            "**\n",
            "***\n",
            "****\n",
            "*****\n",
            "******\n",
            "*******\n",
            "********\n",
            "*********\n",
            "**********\n"
          ]
        }
      ]
    },
    {
      "cell_type": "code",
      "source": [
        "#print alternatives\n",
        "n = int(input(\"enter the number:\"))\n",
        "for i in range(1, n+1,2):\n",
        "    print(i)\n"
      ],
      "metadata": {
        "colab": {
          "base_uri": "https://localhost:8080/"
        },
        "id": "AJl_9Df6Ahq2",
        "outputId": "114cb8ca-24b4-4b3f-c6a0-f1711eeac0b5"
      },
      "execution_count": null,
      "outputs": [
        {
          "output_type": "stream",
          "name": "stdout",
          "text": [
            "enter the number:10\n",
            "1\n",
            "3\n",
            "5\n",
            "7\n",
            "9\n"
          ]
        }
      ]
    },
    {
      "cell_type": "code",
      "source": [
        "#printing numbers\n",
        "numbers=[1,2,3,4,5,]\n",
        "for i in numbers:\n",
        "  print(i)"
      ],
      "metadata": {
        "colab": {
          "base_uri": "https://localhost:8080/"
        },
        "id": "MvouoxkHQYme",
        "outputId": "c8740e7f-5875-4f64-f336-852b829cdd31"
      },
      "execution_count": null,
      "outputs": [
        {
          "output_type": "stream",
          "name": "stdout",
          "text": [
            "1\n",
            "2\n",
            "3\n",
            "4\n",
            "5\n"
          ]
        }
      ]
    },
    {
      "cell_type": "code",
      "source": [
        "# printing numbers using while loop\n",
        "i=1\n",
        "while i<=5:\n",
        "    print(i)\n",
        "    i+=1\n"
      ],
      "metadata": {
        "colab": {
          "base_uri": "https://localhost:8080/"
        },
        "id": "nOkuElNyfvbW",
        "outputId": "da84f3dd-7245-4dca-fd39-daeb59b61c20"
      },
      "execution_count": null,
      "outputs": [
        {
          "output_type": "stream",
          "name": "stdout",
          "text": [
            "1\n",
            "2\n",
            "3\n",
            "4\n",
            "5\n"
          ]
        }
      ]
    },
    {
      "cell_type": "code",
      "source": [
        "#printing alternatives\n",
        "numbers=range(9,15,2)\n",
        "for i in numbers:\n",
        "  print(i)"
      ],
      "metadata": {
        "colab": {
          "base_uri": "https://localhost:8080/"
        },
        "id": "kl5nlnlsgDim",
        "outputId": "52b833cc-ca23-4783-8bfa-35f86d8a9895"
      },
      "execution_count": null,
      "outputs": [
        {
          "output_type": "stream",
          "name": "stdout",
          "text": [
            "9\n",
            "11\n",
            "13\n"
          ]
        }
      ]
    },
    {
      "cell_type": "code",
      "source": [
        "#identifying the num with index.\n",
        "n=(1,2,3,2,3,1)\n",
        "i=n.index(3)\n",
        "print(i)"
      ],
      "metadata": {
        "colab": {
          "base_uri": "https://localhost:8080/"
        },
        "id": "bhl_6UzyhSGT",
        "outputId": "11a638fc-2e58-43ef-8195-1f60b1bfd0f8"
      },
      "execution_count": null,
      "outputs": [
        {
          "output_type": "stream",
          "name": "stdout",
          "text": [
            "2\n"
          ]
        }
      ]
    },
    {
      "cell_type": "code",
      "source": [
        "#sum of num in range.\n",
        "n=int(input(\"enter the number:\"))\n",
        "total=0\n",
        "for i in range(1,n+1):\n",
        "  total+=i\n",
        "print(total)"
      ],
      "metadata": {
        "colab": {
          "base_uri": "https://localhost:8080/"
        },
        "id": "ZtdoBTieic4Q",
        "outputId": "1c3b8826-73eb-4874-a644-6b4a368c3ace"
      },
      "execution_count": null,
      "outputs": [
        {
          "output_type": "stream",
          "name": "stdout",
          "text": [
            "enter the number:10\n",
            "55\n"
          ]
        }
      ]
    },
    {
      "cell_type": "code",
      "source": [
        "#multipication table.\n",
        "n=int(input(\"enter the number:\"))\n",
        "for i in range(1,n+1):\n",
        "  print(f\"{n} x {i}={n*i}\")"
      ],
      "metadata": {
        "colab": {
          "base_uri": "https://localhost:8080/"
        },
        "id": "awPaxQwpz7pI",
        "outputId": "f7153c36-1960-4f13-a849-46e647f21eab"
      },
      "execution_count": null,
      "outputs": [
        {
          "output_type": "stream",
          "name": "stdout",
          "text": [
            "enter the number:5\n",
            "5 x 1=5\n",
            "5 x 2=10\n",
            "5 x 3=15\n",
            "5 x 4=20\n",
            "5 x 5=25\n"
          ]
        }
      ]
    },
    {
      "cell_type": "code",
      "source": [
        "#check leap year or not.\n",
        "year=int(input(\"enter the year:\"))\n",
        "if (year%4==0 and year%100!=0) or year%400==0:\n",
        "  print(\"leap year\")\n",
        "else:\n",
        "  print(\"not leap year\")"
      ],
      "metadata": {
        "colab": {
          "base_uri": "https://localhost:8080/"
        },
        "id": "5vkJHJBx7Pof",
        "outputId": "a4c72c26-10f6-4ce6-dedc-8edf2a3ef170"
      },
      "execution_count": null,
      "outputs": [
        {
          "output_type": "stream",
          "name": "stdout",
          "text": [
            "enter the year:2020\n",
            "leap year\n"
          ]
        }
      ]
    },
    {
      "cell_type": "code",
      "source": [
        "#arithmeatic operations.\n",
        "a=float(input(\"enter the number:\"))\n",
        "b=float(input(\"enter the number:\"))\n",
        "op=input(\"enter the op:\")\n",
        "if op==\"+\":\n",
        "  print(a+b)\n",
        "elif op==\"-\":\n",
        "  print(a-b)\n",
        "elif op==\"*\":\n",
        "  print(a*b)\n",
        "elif op==\"/\":\n",
        "    if b!=0:\n",
        "      print(a/b)\n",
        "    else:\n",
        "      print(\"not define\")\n",
        "else:\n",
        "  print(\"invalid\")\n",
        "\n"
      ],
      "metadata": {
        "colab": {
          "base_uri": "https://localhost:8080/"
        },
        "id": "jnFUCl13CmGK",
        "outputId": "f097f742-a1da-464a-e43f-da6260fb4230"
      },
      "execution_count": null,
      "outputs": [
        {
          "output_type": "stream",
          "name": "stdout",
          "text": [
            "enter the number:4\n",
            "enter the number:5\n",
            "enter the op:/\n",
            "0.8\n"
          ]
        }
      ]
    },
    {
      "cell_type": "code",
      "source": [
        "#odd numbers.\n",
        "for i in range(1,51):\n",
        "  if(i%2!=0):\n",
        "    print(i)"
      ],
      "metadata": {
        "colab": {
          "base_uri": "https://localhost:8080/"
        },
        "id": "MA5r0yjpL7Js",
        "outputId": "05a793a8-8a40-4c74-e312-958697815b8c"
      },
      "execution_count": null,
      "outputs": [
        {
          "output_type": "stream",
          "name": "stdout",
          "text": [
            "1\n",
            "3\n",
            "5\n",
            "7\n",
            "9\n",
            "11\n",
            "13\n",
            "15\n",
            "17\n",
            "19\n",
            "21\n",
            "23\n",
            "25\n",
            "27\n",
            "29\n",
            "31\n",
            "33\n",
            "35\n",
            "37\n",
            "39\n",
            "41\n",
            "43\n",
            "45\n",
            "47\n",
            "49\n"
          ]
        }
      ]
    },
    {
      "cell_type": "code",
      "source": [
        "#print consonants\n",
        "x=input(\"enter the string:\")\n",
        "vowels=\"aeiouAEIOU\"\n",
        "count=0\n",
        "for ch in x:\n",
        "  if ch not in vowels:\n",
        "    count+=1\n",
        "print(count)\n"
      ],
      "metadata": {
        "colab": {
          "base_uri": "https://localhost:8080/"
        },
        "id": "MuO0SkugiPry",
        "outputId": "6051bd93-7bac-4da7-bbca-079a48be097e"
      },
      "execution_count": null,
      "outputs": [
        {
          "output_type": "stream",
          "name": "stdout",
          "text": [
            "enter the string:hiimvijay\n",
            "5\n"
          ]
        }
      ]
    },
    {
      "cell_type": "code",
      "source": [
        "#max num in the list.\n",
        "num=[1,22,3,4,5]\n",
        "max_num=num[0]\n",
        "for i in num:\n",
        "  if i>max_num:\n",
        "    max_num=i\n",
        "print(max_num)\n",
        "\n"
      ],
      "metadata": {
        "colab": {
          "base_uri": "https://localhost:8080/"
        },
        "id": "BwVLQ0dJnl2r",
        "outputId": "0eb63c39-72d4-4a4e-931f-21fa95cc65d0"
      },
      "execution_count": null,
      "outputs": [
        {
          "output_type": "stream",
          "name": "stdout",
          "text": [
            "22\n"
          ]
        }
      ]
    },
    {
      "cell_type": "code",
      "source": [
        "#second largest number.\n",
        "num=[23,10,55,86,34]\n",
        "first=second=float('-inf')\n",
        "for i in num:\n",
        "  if i>first:\n",
        "    second=first\n",
        "    first=i\n",
        "  elif i > second and i!=first:\n",
        "    second=i\n",
        "print(second)"
      ],
      "metadata": {
        "colab": {
          "base_uri": "https://localhost:8080/"
        },
        "id": "9u0n1UI_rlX9",
        "outputId": "71466b22-2722-4783-cd29-f6ec230fccca"
      },
      "execution_count": null,
      "outputs": [
        {
          "output_type": "stream",
          "name": "stdout",
          "text": [
            "55\n"
          ]
        }
      ]
    },
    {
      "cell_type": "code",
      "source": [
        "#sum of digits.\n",
        "num = int(input(\"Enter number: \"))\n",
        "total = 0\n",
        "while num > 0:\n",
        "    total += num % 10\n",
        "    num=num//10\n",
        "print(\"Sum of digits:\", total)"
      ],
      "metadata": {
        "colab": {
          "base_uri": "https://localhost:8080/"
        },
        "id": "qjp6HVyq2svK",
        "outputId": "d7767c6d-891c-4945-b942-0bc1c0193988"
      },
      "execution_count": null,
      "outputs": [
        {
          "output_type": "stream",
          "name": "stdout",
          "text": [
            "Enter number: 123\n",
            "Sum of digits: 6\n"
          ]
        }
      ]
    },
    {
      "cell_type": "code",
      "source": [
        "#prime number.\n",
        "def is_prime(n):\n",
        "  if n<=1:\n",
        "    return False\n",
        "  for i in range(2,int(n**0.5)+1):\n",
        "    if n%i==0:\n",
        "      return False\n",
        "    return True\n",
        "print(is_prime(5))"
      ],
      "metadata": {
        "colab": {
          "base_uri": "https://localhost:8080/"
        },
        "id": "M6Gj1XCzr47i",
        "outputId": "5d22f0d2-1552-4516-eb86-56d58caed798"
      },
      "execution_count": null,
      "outputs": [
        {
          "output_type": "stream",
          "name": "stdout",
          "text": [
            "True\n"
          ]
        }
      ]
    },
    {
      "cell_type": "code",
      "source": [
        "#longest substring\n",
        "words=[\"flow\",\"fly\",\"flight\"]\n",
        "result = \"\"\n",
        "for i in range (len(min(words))):\n",
        "  ch=words[0][i]\n",
        "  if all(word[i]==ch for word in words):\n",
        "    result+=ch\n",
        "  else:\n",
        "    break\n",
        "print(result)\n"
      ],
      "metadata": {
        "id": "eCEP9w-gvkbx",
        "colab": {
          "base_uri": "https://localhost:8080/"
        },
        "outputId": "a0901f7a-efa3-4412-cb29-911021b535de"
      },
      "execution_count": null,
      "outputs": [
        {
          "output_type": "stream",
          "name": "stdout",
          "text": [
            "fl\n"
          ]
        }
      ]
    },
    {
      "cell_type": "code",
      "source": [
        "#swapping and adding.\n",
        "n=int(input(\"enter the num:\"))\n",
        "a,b= 0,1\n",
        "for i in range(1,n+1):\n",
        "  a,b=b,a+b\n",
        "  print(a,end=\"\")"
      ],
      "metadata": {
        "colab": {
          "base_uri": "https://localhost:8080/"
        },
        "id": "2P1fCN27XFjC",
        "outputId": "d545f8e6-676f-4b75-8fd7-67a375e8f7db"
      },
      "execution_count": null,
      "outputs": [
        {
          "output_type": "stream",
          "name": "stdout",
          "text": [
            "enter the num:5\n",
            "11235"
          ]
        }
      ]
    },
    {
      "cell_type": "code",
      "source": [
        "#swapping and adding.\n",
        "n=int(input(\"enter the num:\"))\n",
        "a,b= 0,1\n",
        "for i in range(n):\n",
        "  a,b=b,a+b\n",
        "  print(a,end=\"\")"
      ],
      "metadata": {
        "colab": {
          "base_uri": "https://localhost:8080/"
        },
        "id": "ZXDX1gwEZoXe",
        "outputId": "f33530f6-41ca-4f6c-ae15-456765e4b50c"
      },
      "execution_count": null,
      "outputs": [
        {
          "output_type": "stream",
          "name": "stdout",
          "text": [
            "enter the num:5\n",
            "11235"
          ]
        }
      ]
    },
    {
      "cell_type": "code",
      "source": [
        "#postion of a num in matrix.\n",
        "matrix = [[1,2,3],[4,5,6],[7,8,9]]\n",
        "print(matrix[1][1])\n"
      ],
      "metadata": {
        "colab": {
          "base_uri": "https://localhost:8080/"
        },
        "id": "uPzWdZEcj-RW",
        "outputId": "f3bc5a75-de9e-4405-8a8f-14f0f634efb4"
      },
      "execution_count": null,
      "outputs": [
        {
          "output_type": "stream",
          "name": "stdout",
          "text": [
            "5\n"
          ]
        }
      ]
    },
    {
      "cell_type": "code",
      "source": [
        "#squares of a num.\n",
        "for x in range(1, 6):\n",
        "    squares = x**2\n",
        "    print(squares)\n"
      ],
      "metadata": {
        "colab": {
          "base_uri": "https://localhost:8080/"
        },
        "id": "uNqOFlLy7fTV",
        "outputId": "19b96e84-a302-4f10-f843-9f78b673d9c5"
      },
      "execution_count": null,
      "outputs": [
        {
          "output_type": "stream",
          "name": "stdout",
          "text": [
            "1\n",
            "4\n",
            "9\n",
            "16\n",
            "25\n"
          ]
        }
      ]
    },
    {
      "cell_type": "code",
      "source": [
        "#fibanocci series.\n",
        "n = int(input(\"Enter number of terms: \"))\n",
        "a, b = 0, 1\n",
        "for i in range(n):\n",
        "    print(a, end=\" \")\n",
        "    a, b = b, a + b"
      ],
      "metadata": {
        "id": "rU6EbUXI8lxq",
        "colab": {
          "base_uri": "https://localhost:8080/"
        },
        "outputId": "9e313c94-a3d6-4446-f4ff-c7b6df9ad1fc"
      },
      "execution_count": null,
      "outputs": [
        {
          "output_type": "stream",
          "name": "stdout",
          "text": [
            "Enter number of terms: 7\n",
            "0 1 1 2 3 5 8 "
          ]
        }
      ]
    },
    {
      "cell_type": "code",
      "source": [],
      "metadata": {
        "id": "dIBOw-0CTyF-"
      },
      "execution_count": null,
      "outputs": []
    }
  ]
}